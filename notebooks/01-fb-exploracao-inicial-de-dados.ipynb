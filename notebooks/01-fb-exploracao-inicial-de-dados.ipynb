{
 "cells": [
  {
   "cell_type": "markdown",
   "id": "2db03c43-fc43-4e80-a0f1-886a07973908",
   "metadata": {},
   "source": [
    "# Exploratory Data Analysis - Brazilian Ecommerce DATASET"
   ]
  },
  {
   "cell_type": "code",
   "execution_count": null,
   "id": "ee64ef40-6101-43f4-8cb2-5becb972559d",
   "metadata": {},
   "outputs": [],
   "source": []
  }
 ],
 "metadata": {
  "kernelspec": {
   "display_name": "Python [conda env:base] *",
   "language": "python",
   "name": "conda-base-py"
  },
  "language_info": {
   "codemirror_mode": {
    "name": "ipython",
    "version": 3
   },
   "file_extension": ".py",
   "mimetype": "text/x-python",
   "name": "python",
   "nbconvert_exporter": "python",
   "pygments_lexer": "ipython3",
   "version": "3.11.5"
  }
 },
 "nbformat": 4,
 "nbformat_minor": 5
}
