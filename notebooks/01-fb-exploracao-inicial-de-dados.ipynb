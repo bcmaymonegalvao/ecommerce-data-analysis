{
 "cells": [
  {
   "cell_type": "markdown",
   "id": "2db03c43-fc43-4e80-a0f1-886a07973908",
   "metadata": {},
   "source": [
    "# Exploratory Data Analysis - Brazilian Ecommerce DATASET"
   ]
  },
  {
   "cell_type": "code",
   "execution_count": 3,
   "id": "ee64ef40-6101-43f4-8cb2-5becb972559d",
   "metadata": {},
   "outputs": [
    {
     "name": "stdout",
     "output_type": "stream",
     "text": [
      "Note: you may need to restart the kernel to use updated packages.\n"
     ]
    },
    {
     "name": "stderr",
     "output_type": "stream",
     "text": [
      "ERROR: Could not find a version that satisfies the requirement pg2sqlite (from versions: none)\n",
      "ERROR: No matching distribution found for pg2sqlite\n"
     ]
    }
   ],
   "source": [
    "pip install pg2sqlite"
   ]
  }
 ],
 "metadata": {
  "kernelspec": {
   "display_name": "Python [conda env:base] *",
   "language": "python",
   "name": "conda-base-py"
  },
  "language_info": {
   "codemirror_mode": {
    "name": "ipython",
    "version": 3
   },
   "file_extension": ".py",
   "mimetype": "text/x-python",
   "name": "python",
   "nbconvert_exporter": "python",
   "pygments_lexer": "ipython3",
   "version": "3.11.5"
  }
 },
 "nbformat": 4,
 "nbformat_minor": 5
}
